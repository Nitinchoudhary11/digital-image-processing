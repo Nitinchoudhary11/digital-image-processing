{
 "cells": [
  {
   "cell_type": "code",
   "execution_count": 1,
   "id": "65a96616",
   "metadata": {},
   "outputs": [],
   "source": [
    "import numpy as np\n",
    "import matplotlib.pyplot as plt\n",
    "import random\n",
    "import sys"
   ]
  },
  {
   "cell_type": "code",
   "execution_count": 2,
   "id": "23d526e6",
   "metadata": {},
   "outputs": [],
   "source": [
    "def create_rectangle (M,N,border,n,w1,w2,alpha,orientation,Vf,Vb):\n",
    "    \n",
    "    # for selecting intensity value of foreground ie Rectangles\n",
    "    if len(Vf) == 0:\n",
    "        intensity_f = 0\n",
    "    else:\n",
    "        intensity_f = random.choice(Vf)\n",
    "        \n",
    "    \n",
    "    # for selecting intensity value of background ie rest of the image\n",
    "    if len(Vb) == 0:\n",
    "        intensity_b = 255\n",
    "    else:\n",
    "        intensity_b = random.choice(Vb)\n",
    "    \n",
    "    array = np.arange(0,((M+2*border)*(N+2*border)), 1, np.uint8)\n",
    "    array = np.reshape(array, (M+2*border, N+2*border))\n",
    "    image = array.copy()\n",
    "    \n",
    "   \n",
    "    \n",
    "    \n",
    "    #for making every pixel in the image as 'white' or 'a subset of Vb'\n",
    "    for j in range(0,M+2*border-1):\n",
    "        for i in range(0,N+2*border-1):\n",
    "            image[i][j]= intensity_b\n",
    "            \n",
    "    \n",
    "    # for left vertical border\n",
    "    for j in range(0,M+2*border-1):\n",
    "        for i in range(0,border):\n",
    "            image[i][j]= 0\n",
    "    \n",
    "    \n",
    "    #for right vertical border\n",
    "    for j in range(0,M+2*border-1):\n",
    "        for i in range(N+border-1,N+2*border-1):\n",
    "            image[i][j]= 0\n",
    "    \n",
    "    \n",
    "    #for upper horizontal border\n",
    "    for j in range(0,border):\n",
    "        for i in range(0,N+2*border-1):\n",
    "            image[i][j]= 0\n",
    "    \n",
    "    \n",
    "    #for lower horizontal border\n",
    "    for j in range(M+border-1,M+2*border-1):\n",
    "        for i in range(0,N+2*border-1):\n",
    "            image[i][j]=0\n",
    "            \n",
    "            \n",
    "    #for creating n rectangles\n",
    "    for k in range(n):\n",
    "        orientation1 = random.choice(orientation)\n",
    "        \n",
    "        # for defining the width, height and the upper-left corner of rectangle\n",
    "        width = round(np.random.uniform(w1,w2))\n",
    "        height = round(width * alpha)\n",
    "        corner_i = int(np.random.uniform(border+1,N+border-width))\n",
    "        corner_j = int(np.random.uniform(border+1,M+border-height))\n",
    "        \n",
    "        if orientation1 == 1 :\n",
    "            for j in range(corner_j,corner_j+height-1):\n",
    "                for i in range(corner_i,corner_i+width-1):\n",
    "                    image[j][i] = intensity_f\n",
    "        if orientation1 == 2 :\n",
    "            for j in range(corner_j,corner_j+width-1):\n",
    "                for i in range(corner_i,corner_i+height-1):\n",
    "                    image[j][i] = intensity_f\n",
    "            \n",
    "                    \n",
    "    \n",
    "    plt.imshow(image)"
   ]
  },
  {
   "cell_type": "code",
   "execution_count": 3,
   "id": "0b1b5064",
   "metadata": {},
   "outputs": [
    {
     "ename": "IndexError",
     "evalue": "index 520 is out of bounds for axis 0 with size 520",
     "output_type": "error",
     "traceback": [
      "\u001b[1;31m---------------------------------------------------------------------------\u001b[0m",
      "\u001b[1;31mIndexError\u001b[0m                                Traceback (most recent call last)",
      "\u001b[1;32m<ipython-input-3-a818c93492b1>\u001b[0m in \u001b[0;36m<module>\u001b[1;34m\u001b[0m\n\u001b[0;32m      1\u001b[0m \u001b[1;31m# create_rectangle (M,N,border,n,w1,w2,alpha,orientation,Vf,Vb)\u001b[0m\u001b[1;33m\u001b[0m\u001b[1;33m\u001b[0m\u001b[1;33m\u001b[0m\u001b[0m\n\u001b[0;32m      2\u001b[0m \u001b[1;33m\u001b[0m\u001b[0m\n\u001b[1;32m----> 3\u001b[1;33m \u001b[0mcreate_rectangle\u001b[0m\u001b[1;33m(\u001b[0m\u001b[1;36m500\u001b[0m\u001b[1;33m,\u001b[0m\u001b[1;36m1500\u001b[0m\u001b[1;33m,\u001b[0m\u001b[1;36m10\u001b[0m\u001b[1;33m,\u001b[0m\u001b[1;36m5\u001b[0m\u001b[1;33m,\u001b[0m\u001b[1;36m10\u001b[0m\u001b[1;33m,\u001b[0m\u001b[1;36m108\u001b[0m\u001b[1;33m,\u001b[0m\u001b[1;36m2\u001b[0m\u001b[1;33m,\u001b[0m\u001b[1;33m[\u001b[0m\u001b[1;36m1\u001b[0m\u001b[1;33m,\u001b[0m\u001b[1;36m2\u001b[0m\u001b[1;33m]\u001b[0m\u001b[1;33m,\u001b[0m\u001b[1;33m[\u001b[0m\u001b[1;33m]\u001b[0m\u001b[1;33m,\u001b[0m\u001b[1;33m[\u001b[0m\u001b[1;33m]\u001b[0m\u001b[1;33m)\u001b[0m\u001b[1;33m\u001b[0m\u001b[1;33m\u001b[0m\u001b[0m\n\u001b[0m",
      "\u001b[1;32m<ipython-input-2-af738474296c>\u001b[0m in \u001b[0;36mcreate_rectangle\u001b[1;34m(M, N, border, n, w1, w2, alpha, orientation, Vf, Vb)\u001b[0m\n\u001b[0;32m     24\u001b[0m     \u001b[1;32mfor\u001b[0m \u001b[0mj\u001b[0m \u001b[1;32min\u001b[0m \u001b[0mrange\u001b[0m\u001b[1;33m(\u001b[0m\u001b[1;36m0\u001b[0m\u001b[1;33m,\u001b[0m\u001b[0mM\u001b[0m\u001b[1;33m+\u001b[0m\u001b[1;36m2\u001b[0m\u001b[1;33m*\u001b[0m\u001b[0mborder\u001b[0m\u001b[1;33m-\u001b[0m\u001b[1;36m1\u001b[0m\u001b[1;33m)\u001b[0m\u001b[1;33m:\u001b[0m\u001b[1;33m\u001b[0m\u001b[1;33m\u001b[0m\u001b[0m\n\u001b[0;32m     25\u001b[0m         \u001b[1;32mfor\u001b[0m \u001b[0mi\u001b[0m \u001b[1;32min\u001b[0m \u001b[0mrange\u001b[0m\u001b[1;33m(\u001b[0m\u001b[1;36m0\u001b[0m\u001b[1;33m,\u001b[0m\u001b[0mN\u001b[0m\u001b[1;33m+\u001b[0m\u001b[1;36m2\u001b[0m\u001b[1;33m*\u001b[0m\u001b[0mborder\u001b[0m\u001b[1;33m-\u001b[0m\u001b[1;36m1\u001b[0m\u001b[1;33m)\u001b[0m\u001b[1;33m:\u001b[0m\u001b[1;33m\u001b[0m\u001b[1;33m\u001b[0m\u001b[0m\n\u001b[1;32m---> 26\u001b[1;33m             \u001b[0mimage\u001b[0m\u001b[1;33m[\u001b[0m\u001b[0mi\u001b[0m\u001b[1;33m]\u001b[0m\u001b[1;33m[\u001b[0m\u001b[0mj\u001b[0m\u001b[1;33m]\u001b[0m\u001b[1;33m=\u001b[0m \u001b[0mintensity_b\u001b[0m\u001b[1;33m\u001b[0m\u001b[1;33m\u001b[0m\u001b[0m\n\u001b[0m\u001b[0;32m     27\u001b[0m \u001b[1;33m\u001b[0m\u001b[0m\n\u001b[0;32m     28\u001b[0m \u001b[1;33m\u001b[0m\u001b[0m\n",
      "\u001b[1;31mIndexError\u001b[0m: index 520 is out of bounds for axis 0 with size 520"
     ]
    }
   ],
   "source": [
    "# create_rectangle (M,N,border,n,w1,w2,alpha,orientation,Vf,Vb)\n",
    "\n",
    "create_rectangle(500,1500,10,5,10,108,2,[1,2],[],[])"
   ]
  },
  {
   "cell_type": "code",
   "execution_count": null,
   "id": "e0a99684",
   "metadata": {},
   "outputs": [],
   "source": []
  },
  {
   "cell_type": "code",
   "execution_count": null,
   "id": "f058c7d8",
   "metadata": {},
   "outputs": [],
   "source": []
  }
 ],
 "metadata": {
  "kernelspec": {
   "display_name": "Python 3",
   "language": "python",
   "name": "python3"
  },
  "language_info": {
   "codemirror_mode": {
    "name": "ipython",
    "version": 3
   },
   "file_extension": ".py",
   "mimetype": "text/x-python",
   "name": "python",
   "nbconvert_exporter": "python",
   "pygments_lexer": "ipython3",
   "version": "3.8.8"
  }
 },
 "nbformat": 4,
 "nbformat_minor": 5
}
